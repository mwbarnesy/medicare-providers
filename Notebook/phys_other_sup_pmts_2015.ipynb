{
 "cells": [
  {
   "cell_type": "markdown",
   "metadata": {},
   "source": [
    "### Physician & Other Supplier Payments 2015"
   ]
  },
  {
   "cell_type": "code",
   "execution_count": 1,
   "metadata": {},
   "outputs": [],
   "source": [
    "import pandas as pd \n",
    "import numpy as np  \n",
    "import matplotlib.pyplot as plt  \n",
    "import seaborn as sns"
   ]
  },
  {
   "cell_type": "code",
   "execution_count": 2,
   "metadata": {
    "scrolled": true
   },
   "outputs": [],
   "source": [
    "prov_pmnt_2015 = pd.read_csv('../data/Medicare_Provider_Util_Payment_PUF_CY2015.txt', sep='\\t', \n",
    "    nrows=5,\n",
    "    usecols = ['npi', 'nppes_provider_last_org_name', 'nppes_entity_code', 'provider_type', 'place_of_service', 'hcpcs_code',\n",
    "    'hcpcs_description', 'line_srvc_cnt', 'bene_day_srvc_cnt', 'average_Medicare_allowed_amt', 'average_Medicare_payment_amt']\n",
    "              \n",
    "              )"
   ]
  },
  {
   "cell_type": "code",
   "execution_count": 3,
   "metadata": {},
   "outputs": [],
   "source": [
    "prov_pmnt_2015 = prov_pmnt_2015.drop([0])\n",
    "prov_pmnt_2015 = prov_pmnt_2015.reset_index(drop = True)"
   ]
  },
  {
   "cell_type": "code",
   "execution_count": 4,
   "metadata": {},
   "outputs": [
    {
     "data": {
      "text/html": [
       "<div>\n",
       "<style scoped>\n",
       "    .dataframe tbody tr th:only-of-type {\n",
       "        vertical-align: middle;\n",
       "    }\n",
       "\n",
       "    .dataframe tbody tr th {\n",
       "        vertical-align: top;\n",
       "    }\n",
       "\n",
       "    .dataframe thead th {\n",
       "        text-align: right;\n",
       "    }\n",
       "</style>\n",
       "<table border=\"1\" class=\"dataframe\">\n",
       "  <thead>\n",
       "    <tr style=\"text-align: right;\">\n",
       "      <th></th>\n",
       "      <th>npi</th>\n",
       "      <th>nppes_provider_last_org_name</th>\n",
       "      <th>nppes_entity_code</th>\n",
       "      <th>provider_type</th>\n",
       "      <th>place_of_service</th>\n",
       "      <th>hcpcs_code</th>\n",
       "      <th>hcpcs_description</th>\n",
       "      <th>line_srvc_cnt</th>\n",
       "      <th>bene_day_srvc_cnt</th>\n",
       "      <th>average_Medicare_allowed_amt</th>\n",
       "      <th>average_Medicare_payment_amt</th>\n",
       "    </tr>\n",
       "  </thead>\n",
       "  <tbody>\n",
       "    <tr>\n",
       "      <th>0</th>\n",
       "      <td>1003000126</td>\n",
       "      <td>ENKESHAFI</td>\n",
       "      <td>I</td>\n",
       "      <td>Internal Medicine</td>\n",
       "      <td>F</td>\n",
       "      <td>99217.0</td>\n",
       "      <td>Hospital observation care discharge</td>\n",
       "      <td>23.0</td>\n",
       "      <td>23.0</td>\n",
       "      <td>72.680000</td>\n",
       "      <td>54.502609</td>\n",
       "    </tr>\n",
       "    <tr>\n",
       "      <th>1</th>\n",
       "      <td>1003000126</td>\n",
       "      <td>ENKESHAFI</td>\n",
       "      <td>I</td>\n",
       "      <td>Internal Medicine</td>\n",
       "      <td>F</td>\n",
       "      <td>99219.0</td>\n",
       "      <td>Hospital observation care typically 50 minutes</td>\n",
       "      <td>18.0</td>\n",
       "      <td>18.0</td>\n",
       "      <td>135.850000</td>\n",
       "      <td>100.958889</td>\n",
       "    </tr>\n",
       "    <tr>\n",
       "      <th>2</th>\n",
       "      <td>1003000126</td>\n",
       "      <td>ENKESHAFI</td>\n",
       "      <td>I</td>\n",
       "      <td>Internal Medicine</td>\n",
       "      <td>F</td>\n",
       "      <td>99221.0</td>\n",
       "      <td>Initial hospital inpatient care, typically 30 ...</td>\n",
       "      <td>59.0</td>\n",
       "      <td>59.0</td>\n",
       "      <td>101.365085</td>\n",
       "      <td>79.469661</td>\n",
       "    </tr>\n",
       "    <tr>\n",
       "      <th>3</th>\n",
       "      <td>1003000126</td>\n",
       "      <td>ENKESHAFI</td>\n",
       "      <td>I</td>\n",
       "      <td>Internal Medicine</td>\n",
       "      <td>F</td>\n",
       "      <td>99222.0</td>\n",
       "      <td>Initial hospital inpatient care, typically 50 ...</td>\n",
       "      <td>132.0</td>\n",
       "      <td>132.0</td>\n",
       "      <td>139.010455</td>\n",
       "      <td>107.933409</td>\n",
       "    </tr>\n",
       "  </tbody>\n",
       "</table>\n",
       "</div>"
      ],
      "text/plain": [
       "          npi nppes_provider_last_org_name nppes_entity_code  \\\n",
       "0  1003000126                    ENKESHAFI                 I   \n",
       "1  1003000126                    ENKESHAFI                 I   \n",
       "2  1003000126                    ENKESHAFI                 I   \n",
       "3  1003000126                    ENKESHAFI                 I   \n",
       "\n",
       "       provider_type place_of_service  hcpcs_code  \\\n",
       "0  Internal Medicine                F     99217.0   \n",
       "1  Internal Medicine                F     99219.0   \n",
       "2  Internal Medicine                F     99221.0   \n",
       "3  Internal Medicine                F     99222.0   \n",
       "\n",
       "                                   hcpcs_description  line_srvc_cnt  \\\n",
       "0                Hospital observation care discharge           23.0   \n",
       "1     Hospital observation care typically 50 minutes           18.0   \n",
       "2  Initial hospital inpatient care, typically 30 ...           59.0   \n",
       "3  Initial hospital inpatient care, typically 50 ...          132.0   \n",
       "\n",
       "   bene_day_srvc_cnt  average_Medicare_allowed_amt  \\\n",
       "0               23.0                     72.680000   \n",
       "1               18.0                    135.850000   \n",
       "2               59.0                    101.365085   \n",
       "3              132.0                    139.010455   \n",
       "\n",
       "   average_Medicare_payment_amt  \n",
       "0                     54.502609  \n",
       "1                    100.958889  \n",
       "2                     79.469661  \n",
       "3                    107.933409  "
      ]
     },
     "execution_count": 4,
     "metadata": {},
     "output_type": "execute_result"
    }
   ],
   "source": [
    "prov_pmnt_2015.head()"
   ]
  },
  {
   "cell_type": "code",
   "execution_count": null,
   "metadata": {},
   "outputs": [],
   "source": []
  }
 ],
 "metadata": {
  "kernelspec": {
   "display_name": "Python 3",
   "language": "python",
   "name": "python3"
  },
  "language_info": {
   "codemirror_mode": {
    "name": "ipython",
    "version": 3
   },
   "file_extension": ".py",
   "mimetype": "text/x-python",
   "name": "python",
   "nbconvert_exporter": "python",
   "pygments_lexer": "ipython3",
   "version": "3.7.3"
  }
 },
 "nbformat": 4,
 "nbformat_minor": 2
}
