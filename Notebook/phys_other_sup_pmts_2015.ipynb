{
 "cells": [
  {
   "cell_type": "markdown",
   "metadata": {},
   "source": [
    "### Physician & Other Supplier Payments 2015"
   ]
  },
  {
   "cell_type": "code",
   "execution_count": 1,
   "metadata": {},
   "outputs": [],
   "source": [
    "import pandas as pd \n",
    "import numpy as np  \n",
    "import matplotlib.pyplot as plt  \n",
    "import seaborn as sns"
   ]
  },
  {
   "cell_type": "code",
   "execution_count": 2,
   "metadata": {},
   "outputs": [],
   "source": [
    "prov_pmnt_2015 = pd.read_csv('../data/Medicare_Provider_Util_Payment_PUF_CY2015.txt', sep='\\t',\n",
    "    usecols = ['npi', 'nppes_provider_last_org_name', 'nppes_entity_code', 'provider_type', 'medicare_participation_indicator', 'place_of_service', 'hcpcs_code',\n",
    "    'hcpcs_description', 'line_srvc_cnt', 'bene_day_srvc_cnt', 'average_Medicare_allowed_amt', 'average_Medicare_payment_amt'],\n",
    "    dtype = {'nppes_entity_code' : 'category', 'place_of_service' : 'category'}\n",
    "    )\n",
    "prov_pmnt_2015 = prov_pmnt_2015.drop([0])\n",
    "prov_pmnt_2015 = prov_pmnt_2015.reset_index(drop = True)"
   ]
  },
  {
   "cell_type": "code",
   "execution_count": 3,
   "metadata": {
    "scrolled": true
   },
   "outputs": [
    {
     "data": {
      "text/html": [
       "<div>\n",
       "<style scoped>\n",
       "    .dataframe tbody tr th:only-of-type {\n",
       "        vertical-align: middle;\n",
       "    }\n",
       "\n",
       "    .dataframe tbody tr th {\n",
       "        vertical-align: top;\n",
       "    }\n",
       "\n",
       "    .dataframe thead th {\n",
       "        text-align: right;\n",
       "    }\n",
       "</style>\n",
       "<table border=\"1\" class=\"dataframe\">\n",
       "  <thead>\n",
       "    <tr style=\"text-align: right;\">\n",
       "      <th></th>\n",
       "      <th>npi</th>\n",
       "      <th>nppes_provider_last_org_name</th>\n",
       "      <th>nppes_entity_code</th>\n",
       "      <th>provider_type</th>\n",
       "      <th>medicare_participation_indicator</th>\n",
       "      <th>place_of_service</th>\n",
       "      <th>hcpcs_code</th>\n",
       "      <th>hcpcs_description</th>\n",
       "      <th>line_srvc_cnt</th>\n",
       "      <th>bene_day_srvc_cnt</th>\n",
       "      <th>average_Medicare_allowed_amt</th>\n",
       "      <th>average_Medicare_payment_amt</th>\n",
       "    </tr>\n",
       "  </thead>\n",
       "  <tbody>\n",
       "    <tr>\n",
       "      <th>0</th>\n",
       "      <td>1003000126</td>\n",
       "      <td>ENKESHAFI</td>\n",
       "      <td>I</td>\n",
       "      <td>Internal Medicine</td>\n",
       "      <td>Y</td>\n",
       "      <td>F</td>\n",
       "      <td>99217</td>\n",
       "      <td>Hospital observation care discharge</td>\n",
       "      <td>23.0</td>\n",
       "      <td>23.0</td>\n",
       "      <td>72.680000</td>\n",
       "      <td>54.502609</td>\n",
       "    </tr>\n",
       "    <tr>\n",
       "      <th>1</th>\n",
       "      <td>1003000126</td>\n",
       "      <td>ENKESHAFI</td>\n",
       "      <td>I</td>\n",
       "      <td>Internal Medicine</td>\n",
       "      <td>Y</td>\n",
       "      <td>F</td>\n",
       "      <td>99219</td>\n",
       "      <td>Hospital observation care typically 50 minutes</td>\n",
       "      <td>18.0</td>\n",
       "      <td>18.0</td>\n",
       "      <td>135.850000</td>\n",
       "      <td>100.958889</td>\n",
       "    </tr>\n",
       "    <tr>\n",
       "      <th>2</th>\n",
       "      <td>1003000126</td>\n",
       "      <td>ENKESHAFI</td>\n",
       "      <td>I</td>\n",
       "      <td>Internal Medicine</td>\n",
       "      <td>Y</td>\n",
       "      <td>F</td>\n",
       "      <td>99221</td>\n",
       "      <td>Initial hospital inpatient care, typically 30 ...</td>\n",
       "      <td>59.0</td>\n",
       "      <td>59.0</td>\n",
       "      <td>101.365085</td>\n",
       "      <td>79.469661</td>\n",
       "    </tr>\n",
       "    <tr>\n",
       "      <th>3</th>\n",
       "      <td>1003000126</td>\n",
       "      <td>ENKESHAFI</td>\n",
       "      <td>I</td>\n",
       "      <td>Internal Medicine</td>\n",
       "      <td>Y</td>\n",
       "      <td>F</td>\n",
       "      <td>99222</td>\n",
       "      <td>Initial hospital inpatient care, typically 50 ...</td>\n",
       "      <td>132.0</td>\n",
       "      <td>132.0</td>\n",
       "      <td>139.010455</td>\n",
       "      <td>107.933409</td>\n",
       "    </tr>\n",
       "    <tr>\n",
       "      <th>4</th>\n",
       "      <td>1003000126</td>\n",
       "      <td>ENKESHAFI</td>\n",
       "      <td>I</td>\n",
       "      <td>Internal Medicine</td>\n",
       "      <td>Y</td>\n",
       "      <td>F</td>\n",
       "      <td>99223</td>\n",
       "      <td>Initial hospital inpatient care, typically 70 ...</td>\n",
       "      <td>220.0</td>\n",
       "      <td>220.0</td>\n",
       "      <td>205.185955</td>\n",
       "      <td>157.908955</td>\n",
       "    </tr>\n",
       "    <tr>\n",
       "      <th>5</th>\n",
       "      <td>1003000126</td>\n",
       "      <td>ENKESHAFI</td>\n",
       "      <td>I</td>\n",
       "      <td>Internal Medicine</td>\n",
       "      <td>Y</td>\n",
       "      <td>F</td>\n",
       "      <td>99231</td>\n",
       "      <td>Subsequent hospital inpatient care, typically ...</td>\n",
       "      <td>38.0</td>\n",
       "      <td>38.0</td>\n",
       "      <td>39.554737</td>\n",
       "      <td>31.015789</td>\n",
       "    </tr>\n",
       "    <tr>\n",
       "      <th>6</th>\n",
       "      <td>1003000126</td>\n",
       "      <td>ENKESHAFI</td>\n",
       "      <td>I</td>\n",
       "      <td>Internal Medicine</td>\n",
       "      <td>Y</td>\n",
       "      <td>F</td>\n",
       "      <td>99232</td>\n",
       "      <td>Subsequent hospital inpatient care, typically ...</td>\n",
       "      <td>1117.0</td>\n",
       "      <td>1117.0</td>\n",
       "      <td>73.251164</td>\n",
       "      <td>56.313859</td>\n",
       "    </tr>\n",
       "    <tr>\n",
       "      <th>7</th>\n",
       "      <td>1003000126</td>\n",
       "      <td>ENKESHAFI</td>\n",
       "      <td>I</td>\n",
       "      <td>Internal Medicine</td>\n",
       "      <td>Y</td>\n",
       "      <td>F</td>\n",
       "      <td>99233</td>\n",
       "      <td>Subsequent hospital inpatient care, typically ...</td>\n",
       "      <td>580.0</td>\n",
       "      <td>580.0</td>\n",
       "      <td>105.481845</td>\n",
       "      <td>80.929379</td>\n",
       "    </tr>\n",
       "    <tr>\n",
       "      <th>8</th>\n",
       "      <td>1003000126</td>\n",
       "      <td>ENKESHAFI</td>\n",
       "      <td>I</td>\n",
       "      <td>Internal Medicine</td>\n",
       "      <td>Y</td>\n",
       "      <td>F</td>\n",
       "      <td>99238</td>\n",
       "      <td>Hospital discharge day management, 30 minutes ...</td>\n",
       "      <td>175.0</td>\n",
       "      <td>175.0</td>\n",
       "      <td>73.987143</td>\n",
       "      <td>57.079486</td>\n",
       "    </tr>\n",
       "    <tr>\n",
       "      <th>9</th>\n",
       "      <td>1003000126</td>\n",
       "      <td>ENKESHAFI</td>\n",
       "      <td>I</td>\n",
       "      <td>Internal Medicine</td>\n",
       "      <td>Y</td>\n",
       "      <td>F</td>\n",
       "      <td>99239</td>\n",
       "      <td>Hospital discharge day management, more than 3...</td>\n",
       "      <td>368.0</td>\n",
       "      <td>368.0</td>\n",
       "      <td>108.860516</td>\n",
       "      <td>83.947201</td>\n",
       "    </tr>\n",
       "  </tbody>\n",
       "</table>\n",
       "</div>"
      ],
      "text/plain": [
       "          npi nppes_provider_last_org_name nppes_entity_code  \\\n",
       "0  1003000126                    ENKESHAFI                 I   \n",
       "1  1003000126                    ENKESHAFI                 I   \n",
       "2  1003000126                    ENKESHAFI                 I   \n",
       "3  1003000126                    ENKESHAFI                 I   \n",
       "4  1003000126                    ENKESHAFI                 I   \n",
       "5  1003000126                    ENKESHAFI                 I   \n",
       "6  1003000126                    ENKESHAFI                 I   \n",
       "7  1003000126                    ENKESHAFI                 I   \n",
       "8  1003000126                    ENKESHAFI                 I   \n",
       "9  1003000126                    ENKESHAFI                 I   \n",
       "\n",
       "       provider_type medicare_participation_indicator place_of_service  \\\n",
       "0  Internal Medicine                                Y                F   \n",
       "1  Internal Medicine                                Y                F   \n",
       "2  Internal Medicine                                Y                F   \n",
       "3  Internal Medicine                                Y                F   \n",
       "4  Internal Medicine                                Y                F   \n",
       "5  Internal Medicine                                Y                F   \n",
       "6  Internal Medicine                                Y                F   \n",
       "7  Internal Medicine                                Y                F   \n",
       "8  Internal Medicine                                Y                F   \n",
       "9  Internal Medicine                                Y                F   \n",
       "\n",
       "  hcpcs_code                                  hcpcs_description  \\\n",
       "0      99217                Hospital observation care discharge   \n",
       "1      99219     Hospital observation care typically 50 minutes   \n",
       "2      99221  Initial hospital inpatient care, typically 30 ...   \n",
       "3      99222  Initial hospital inpatient care, typically 50 ...   \n",
       "4      99223  Initial hospital inpatient care, typically 70 ...   \n",
       "5      99231  Subsequent hospital inpatient care, typically ...   \n",
       "6      99232  Subsequent hospital inpatient care, typically ...   \n",
       "7      99233  Subsequent hospital inpatient care, typically ...   \n",
       "8      99238  Hospital discharge day management, 30 minutes ...   \n",
       "9      99239  Hospital discharge day management, more than 3...   \n",
       "\n",
       "   line_srvc_cnt  bene_day_srvc_cnt  average_Medicare_allowed_amt  \\\n",
       "0           23.0               23.0                     72.680000   \n",
       "1           18.0               18.0                    135.850000   \n",
       "2           59.0               59.0                    101.365085   \n",
       "3          132.0              132.0                    139.010455   \n",
       "4          220.0              220.0                    205.185955   \n",
       "5           38.0               38.0                     39.554737   \n",
       "6         1117.0             1117.0                     73.251164   \n",
       "7          580.0              580.0                    105.481845   \n",
       "8          175.0              175.0                     73.987143   \n",
       "9          368.0              368.0                    108.860516   \n",
       "\n",
       "   average_Medicare_payment_amt  \n",
       "0                     54.502609  \n",
       "1                    100.958889  \n",
       "2                     79.469661  \n",
       "3                    107.933409  \n",
       "4                    157.908955  \n",
       "5                     31.015789  \n",
       "6                     56.313859  \n",
       "7                     80.929379  \n",
       "8                     57.079486  \n",
       "9                     83.947201  "
      ]
     },
     "execution_count": 3,
     "metadata": {},
     "output_type": "execute_result"
    }
   ],
   "source": [
    "prov_pmnt_2015.head(10)"
   ]
  },
  {
   "cell_type": "code",
   "execution_count": 4,
   "metadata": {},
   "outputs": [
    {
     "data": {
      "text/html": [
       "<div>\n",
       "<style scoped>\n",
       "    .dataframe tbody tr th:only-of-type {\n",
       "        vertical-align: middle;\n",
       "    }\n",
       "\n",
       "    .dataframe tbody tr th {\n",
       "        vertical-align: top;\n",
       "    }\n",
       "\n",
       "    .dataframe thead th {\n",
       "        text-align: right;\n",
       "    }\n",
       "</style>\n",
       "<table border=\"1\" class=\"dataframe\">\n",
       "  <thead>\n",
       "    <tr style=\"text-align: right;\">\n",
       "      <th></th>\n",
       "      <th>npi</th>\n",
       "      <th>nppes_provider_last_org_name</th>\n",
       "      <th>nppes_entity_code</th>\n",
       "      <th>provider_type</th>\n",
       "      <th>medicare_participation_indicator</th>\n",
       "      <th>place_of_service</th>\n",
       "      <th>hcpcs_code</th>\n",
       "      <th>hcpcs_description</th>\n",
       "      <th>line_srvc_cnt</th>\n",
       "      <th>bene_day_srvc_cnt</th>\n",
       "      <th>average_Medicare_allowed_amt</th>\n",
       "      <th>average_Medicare_payment_amt</th>\n",
       "    </tr>\n",
       "  </thead>\n",
       "  <tbody>\n",
       "    <tr>\n",
       "      <th>0</th>\n",
       "      <td>1003000126</td>\n",
       "      <td>ENKESHAFI</td>\n",
       "      <td>I</td>\n",
       "      <td>Internal Medicine</td>\n",
       "      <td>Y</td>\n",
       "      <td>F</td>\n",
       "      <td>99217</td>\n",
       "      <td>Hospital observation care discharge</td>\n",
       "      <td>23.0</td>\n",
       "      <td>23.0</td>\n",
       "      <td>72.680000</td>\n",
       "      <td>54.502609</td>\n",
       "    </tr>\n",
       "    <tr>\n",
       "      <th>1</th>\n",
       "      <td>1003000126</td>\n",
       "      <td>ENKESHAFI</td>\n",
       "      <td>I</td>\n",
       "      <td>Internal Medicine</td>\n",
       "      <td>Y</td>\n",
       "      <td>F</td>\n",
       "      <td>99219</td>\n",
       "      <td>Hospital observation care typically 50 minutes</td>\n",
       "      <td>18.0</td>\n",
       "      <td>18.0</td>\n",
       "      <td>135.850000</td>\n",
       "      <td>100.958889</td>\n",
       "    </tr>\n",
       "    <tr>\n",
       "      <th>2</th>\n",
       "      <td>1003000126</td>\n",
       "      <td>ENKESHAFI</td>\n",
       "      <td>I</td>\n",
       "      <td>Internal Medicine</td>\n",
       "      <td>Y</td>\n",
       "      <td>F</td>\n",
       "      <td>99221</td>\n",
       "      <td>Initial hospital inpatient care, typically 30 ...</td>\n",
       "      <td>59.0</td>\n",
       "      <td>59.0</td>\n",
       "      <td>101.365085</td>\n",
       "      <td>79.469661</td>\n",
       "    </tr>\n",
       "    <tr>\n",
       "      <th>3</th>\n",
       "      <td>1003000126</td>\n",
       "      <td>ENKESHAFI</td>\n",
       "      <td>I</td>\n",
       "      <td>Internal Medicine</td>\n",
       "      <td>Y</td>\n",
       "      <td>F</td>\n",
       "      <td>99222</td>\n",
       "      <td>Initial hospital inpatient care, typically 50 ...</td>\n",
       "      <td>132.0</td>\n",
       "      <td>132.0</td>\n",
       "      <td>139.010455</td>\n",
       "      <td>107.933409</td>\n",
       "    </tr>\n",
       "    <tr>\n",
       "      <th>4</th>\n",
       "      <td>1003000126</td>\n",
       "      <td>ENKESHAFI</td>\n",
       "      <td>I</td>\n",
       "      <td>Internal Medicine</td>\n",
       "      <td>Y</td>\n",
       "      <td>F</td>\n",
       "      <td>99223</td>\n",
       "      <td>Initial hospital inpatient care, typically 70 ...</td>\n",
       "      <td>220.0</td>\n",
       "      <td>220.0</td>\n",
       "      <td>205.185955</td>\n",
       "      <td>157.908955</td>\n",
       "    </tr>\n",
       "    <tr>\n",
       "      <th>5</th>\n",
       "      <td>1003000126</td>\n",
       "      <td>ENKESHAFI</td>\n",
       "      <td>I</td>\n",
       "      <td>Internal Medicine</td>\n",
       "      <td>Y</td>\n",
       "      <td>F</td>\n",
       "      <td>99231</td>\n",
       "      <td>Subsequent hospital inpatient care, typically ...</td>\n",
       "      <td>38.0</td>\n",
       "      <td>38.0</td>\n",
       "      <td>39.554737</td>\n",
       "      <td>31.015789</td>\n",
       "    </tr>\n",
       "    <tr>\n",
       "      <th>6</th>\n",
       "      <td>1003000126</td>\n",
       "      <td>ENKESHAFI</td>\n",
       "      <td>I</td>\n",
       "      <td>Internal Medicine</td>\n",
       "      <td>Y</td>\n",
       "      <td>F</td>\n",
       "      <td>99232</td>\n",
       "      <td>Subsequent hospital inpatient care, typically ...</td>\n",
       "      <td>1117.0</td>\n",
       "      <td>1117.0</td>\n",
       "      <td>73.251164</td>\n",
       "      <td>56.313859</td>\n",
       "    </tr>\n",
       "    <tr>\n",
       "      <th>7</th>\n",
       "      <td>1003000126</td>\n",
       "      <td>ENKESHAFI</td>\n",
       "      <td>I</td>\n",
       "      <td>Internal Medicine</td>\n",
       "      <td>Y</td>\n",
       "      <td>F</td>\n",
       "      <td>99233</td>\n",
       "      <td>Subsequent hospital inpatient care, typically ...</td>\n",
       "      <td>580.0</td>\n",
       "      <td>580.0</td>\n",
       "      <td>105.481845</td>\n",
       "      <td>80.929379</td>\n",
       "    </tr>\n",
       "    <tr>\n",
       "      <th>8</th>\n",
       "      <td>1003000126</td>\n",
       "      <td>ENKESHAFI</td>\n",
       "      <td>I</td>\n",
       "      <td>Internal Medicine</td>\n",
       "      <td>Y</td>\n",
       "      <td>F</td>\n",
       "      <td>99238</td>\n",
       "      <td>Hospital discharge day management, 30 minutes ...</td>\n",
       "      <td>175.0</td>\n",
       "      <td>175.0</td>\n",
       "      <td>73.987143</td>\n",
       "      <td>57.079486</td>\n",
       "    </tr>\n",
       "    <tr>\n",
       "      <th>9</th>\n",
       "      <td>1003000126</td>\n",
       "      <td>ENKESHAFI</td>\n",
       "      <td>I</td>\n",
       "      <td>Internal Medicine</td>\n",
       "      <td>Y</td>\n",
       "      <td>F</td>\n",
       "      <td>99239</td>\n",
       "      <td>Hospital discharge day management, more than 3...</td>\n",
       "      <td>368.0</td>\n",
       "      <td>368.0</td>\n",
       "      <td>108.860516</td>\n",
       "      <td>83.947201</td>\n",
       "    </tr>\n",
       "    <tr>\n",
       "      <th>10</th>\n",
       "      <td>1003000126</td>\n",
       "      <td>ENKESHAFI</td>\n",
       "      <td>I</td>\n",
       "      <td>Internal Medicine</td>\n",
       "      <td>Y</td>\n",
       "      <td>F</td>\n",
       "      <td>99291</td>\n",
       "      <td>Critical care delivery critically ill or injur...</td>\n",
       "      <td>21.0</td>\n",
       "      <td>21.0</td>\n",
       "      <td>227.058571</td>\n",
       "      <td>178.011905</td>\n",
       "    </tr>\n",
       "  </tbody>\n",
       "</table>\n",
       "</div>"
      ],
      "text/plain": [
       "           npi nppes_provider_last_org_name nppes_entity_code  \\\n",
       "0   1003000126                    ENKESHAFI                 I   \n",
       "1   1003000126                    ENKESHAFI                 I   \n",
       "2   1003000126                    ENKESHAFI                 I   \n",
       "3   1003000126                    ENKESHAFI                 I   \n",
       "4   1003000126                    ENKESHAFI                 I   \n",
       "5   1003000126                    ENKESHAFI                 I   \n",
       "6   1003000126                    ENKESHAFI                 I   \n",
       "7   1003000126                    ENKESHAFI                 I   \n",
       "8   1003000126                    ENKESHAFI                 I   \n",
       "9   1003000126                    ENKESHAFI                 I   \n",
       "10  1003000126                    ENKESHAFI                 I   \n",
       "\n",
       "        provider_type medicare_participation_indicator place_of_service  \\\n",
       "0   Internal Medicine                                Y                F   \n",
       "1   Internal Medicine                                Y                F   \n",
       "2   Internal Medicine                                Y                F   \n",
       "3   Internal Medicine                                Y                F   \n",
       "4   Internal Medicine                                Y                F   \n",
       "5   Internal Medicine                                Y                F   \n",
       "6   Internal Medicine                                Y                F   \n",
       "7   Internal Medicine                                Y                F   \n",
       "8   Internal Medicine                                Y                F   \n",
       "9   Internal Medicine                                Y                F   \n",
       "10  Internal Medicine                                Y                F   \n",
       "\n",
       "   hcpcs_code                                  hcpcs_description  \\\n",
       "0       99217                Hospital observation care discharge   \n",
       "1       99219     Hospital observation care typically 50 minutes   \n",
       "2       99221  Initial hospital inpatient care, typically 30 ...   \n",
       "3       99222  Initial hospital inpatient care, typically 50 ...   \n",
       "4       99223  Initial hospital inpatient care, typically 70 ...   \n",
       "5       99231  Subsequent hospital inpatient care, typically ...   \n",
       "6       99232  Subsequent hospital inpatient care, typically ...   \n",
       "7       99233  Subsequent hospital inpatient care, typically ...   \n",
       "8       99238  Hospital discharge day management, 30 minutes ...   \n",
       "9       99239  Hospital discharge day management, more than 3...   \n",
       "10      99291  Critical care delivery critically ill or injur...   \n",
       "\n",
       "    line_srvc_cnt  bene_day_srvc_cnt  average_Medicare_allowed_amt  \\\n",
       "0            23.0               23.0                     72.680000   \n",
       "1            18.0               18.0                    135.850000   \n",
       "2            59.0               59.0                    101.365085   \n",
       "3           132.0              132.0                    139.010455   \n",
       "4           220.0              220.0                    205.185955   \n",
       "5            38.0               38.0                     39.554737   \n",
       "6          1117.0             1117.0                     73.251164   \n",
       "7           580.0              580.0                    105.481845   \n",
       "8           175.0              175.0                     73.987143   \n",
       "9           368.0              368.0                    108.860516   \n",
       "10           21.0               21.0                    227.058571   \n",
       "\n",
       "    average_Medicare_payment_amt  \n",
       "0                      54.502609  \n",
       "1                     100.958889  \n",
       "2                      79.469661  \n",
       "3                     107.933409  \n",
       "4                     157.908955  \n",
       "5                      31.015789  \n",
       "6                      56.313859  \n",
       "7                      80.929379  \n",
       "8                      57.079486  \n",
       "9                      83.947201  \n",
       "10                    178.011905  "
      ]
     },
     "execution_count": 4,
     "metadata": {},
     "output_type": "execute_result"
    }
   ],
   "source": [
    "row_exploration = prov_pmnt_2015.query('nppes_provider_last_org_name == \"ENKESHAFI\"')\n",
    "row_exploration"
   ]
  },
  {
   "cell_type": "code",
   "execution_count": 5,
   "metadata": {},
   "outputs": [
    {
     "data": {
      "text/plain": [
       "99213    440454\n",
       "99214    394630\n",
       "99203    170256\n",
       "99232    170144\n",
       "99204    169455\n",
       "G0008    145418\n",
       "99212    145150\n",
       "99223    131331\n",
       "99233    114130\n",
       "99215    111570\n",
       "Name: hcpcs_code, dtype: int64"
      ]
     },
     "execution_count": 5,
     "metadata": {},
     "output_type": "execute_result"
    }
   ],
   "source": [
    "prov_pmnt_2015.hcpcs_code.value_counts().head(10)"
   ]
  },
  {
   "cell_type": "code",
   "execution_count": 6,
   "metadata": {},
   "outputs": [],
   "source": [
    "def getlist(dict):\n",
    "    list = []\n",
    "    for key in dict.keys():\n",
    "        list.append(key)\n",
    "    return list "
   ]
  },
  {
   "cell_type": "code",
   "execution_count": 7,
   "metadata": {
    "scrolled": false
   },
   "outputs": [],
   "source": [
    "top_10_hcpcs_dict = dict(prov_pmnt_2015.hcpcs_code.value_counts().head(10))"
   ]
  },
  {
   "cell_type": "code",
   "execution_count": 8,
   "metadata": {},
   "outputs": [
    {
     "data": {
      "text/plain": [
       "['99213',\n",
       " '99214',\n",
       " '99203',\n",
       " '99232',\n",
       " '99204',\n",
       " 'G0008',\n",
       " '99212',\n",
       " '99223',\n",
       " '99233',\n",
       " '99215']"
      ]
     },
     "execution_count": 8,
     "metadata": {},
     "output_type": "execute_result"
    }
   ],
   "source": [
    "top_10_hcpcs_list = getlist(top_10_hcpcs_dict)\n",
    "top_10_hcpcs_list"
   ]
  },
  {
   "cell_type": "markdown",
   "metadata": {},
   "source": [
    "### What is the average number of distinct medicare beneficiaries/per day services?"
   ]
  },
  {
   "cell_type": "code",
   "execution_count": 9,
   "metadata": {},
   "outputs": [
    {
     "data": {
      "text/plain": [
       "147.42325775269478"
      ]
     },
     "execution_count": 9,
     "metadata": {},
     "output_type": "execute_result"
    }
   ],
   "source": [
    "avg_bene_day = prov_pmnt_2015.bene_day_srvc_cnt.mean()\n",
    "avg_bene_day"
   ]
  },
  {
   "cell_type": "markdown",
   "metadata": {},
   "source": [
    "### What about for the top ten HCPCS codes?"
   ]
  },
  {
   "cell_type": "code",
   "execution_count": 10,
   "metadata": {},
   "outputs": [
    {
     "name": "stderr",
     "output_type": "stream",
     "text": [
      "C:\\Users\\mwbar\\Anaconda3\\lib\\site-packages\\numpy\\lib\\arraysetops.py:569: FutureWarning: elementwise comparison failed; returning scalar instead, but in the future will perform elementwise comparison\n",
      "  mask |= (ar1 == a)\n"
     ]
    }
   ],
   "source": [
    "#Below code didn't work!!!\n",
    "#top_10_avg_bene_day = prov_pmnt_2015.query(\"bene_day_srvc_cnt in @top_10_hcpcs_list\")"
   ]
  },
  {
   "cell_type": "markdown",
   "metadata": {},
   "source": [
    "### What is the highest number of distinct medicare beneficiaries/per day services?"
   ]
  },
  {
   "cell_type": "code",
   "execution_count": 12,
   "metadata": {
    "scrolled": true
   },
   "outputs": [
    {
     "data": {
      "text/plain": [
       "2167568.0"
      ]
     },
     "execution_count": 12,
     "metadata": {},
     "output_type": "execute_result"
    }
   ],
   "source": [
    "max_bene_day = prov_pmnt_2015.bene_day_srvc_cnt.max()\n",
    "max_bene_day"
   ]
  },
  {
   "cell_type": "markdown",
   "metadata": {},
   "source": [
    "### What is the lowest number of distinct medicare beneficiaries/per day services?"
   ]
  },
  {
   "cell_type": "code",
   "execution_count": 13,
   "metadata": {},
   "outputs": [
    {
     "data": {
      "text/plain": [
       "11.0"
      ]
     },
     "execution_count": 13,
     "metadata": {},
     "output_type": "execute_result"
    }
   ],
   "source": [
    "min_bene_day = prov_pmnt_2015.bene_day_srvc_cnt.min()\n",
    "min_bene_day"
   ]
  },
  {
   "cell_type": "markdown",
   "metadata": {},
   "source": [
    "### If we look at the different combinations of entity type & place of service, does this change the HCPCS code count?"
   ]
  },
  {
   "cell_type": "markdown",
   "metadata": {},
   "source": [
    "### Individual - Non Facility"
   ]
  },
  {
   "cell_type": "code",
   "execution_count": 14,
   "metadata": {},
   "outputs": [
    {
     "data": {
      "text/plain": [
       "99213    364682\n",
       "99214    322263\n",
       "99203    148476\n",
       "99204    142935\n",
       "99212    123524\n",
       "G0008    104085\n",
       "36415     96776\n",
       "99215     86459\n",
       "93000     84103\n",
       "96372     65334\n",
       "Name: hcpcs_code, dtype: int64"
      ]
     },
     "execution_count": 14,
     "metadata": {},
     "output_type": "execute_result"
    }
   ],
   "source": [
    "top_5_IO_codes_2015 = prov_pmnt_2015[(\n",
    "    prov_pmnt_2015.nppes_entity_code.isin([\"I\"]) &\n",
    "    prov_pmnt_2015.place_of_service.isin([\"O\"]))] \n",
    "top_5_IO_codes_2015.hcpcs_code.value_counts().head(10)"
   ]
  },
  {
   "cell_type": "code",
   "execution_count": 15,
   "metadata": {
    "scrolled": true
   },
   "outputs": [
    {
     "data": {
      "text/plain": [
       "99213    364502\n",
       "99214    322133\n",
       "99203    148405\n",
       "99204    142862\n",
       "99212    123401\n",
       "G0008    104055\n",
       "36415     96776\n",
       "99215     86380\n",
       "93000     84047\n",
       "96372     65314\n",
       "Name: hcpcs_code, dtype: int64"
      ]
     },
     "execution_count": 15,
     "metadata": {},
     "output_type": "execute_result"
    }
   ],
   "source": [
    "top_5_IO_codes_2015_y = prov_pmnt_2015[(\n",
    "    prov_pmnt_2015.nppes_entity_code.isin([\"I\"]) &\n",
    "    prov_pmnt_2015.place_of_service.isin([\"O\"]) &\n",
    "    prov_pmnt_2015.medicare_participation_indicator.isin([\"Y\"]))] \n",
    "top_5_IO_codes_2015_y.hcpcs_code.value_counts().head(10)"
   ]
  },
  {
   "cell_type": "markdown",
   "metadata": {},
   "source": [
    "### Individual - Facility"
   ]
  },
  {
   "cell_type": "code",
   "execution_count": 16,
   "metadata": {},
   "outputs": [
    {
     "data": {
      "text/plain": [
       "99232    170141\n",
       "99223    131330\n",
       "99233    114128\n",
       "99222    110252\n",
       "99213     75757\n",
       "99231     74472\n",
       "99214     72354\n",
       "99291     58799\n",
       "99238     57215\n",
       "99284     56002\n",
       "Name: hcpcs_code, dtype: int64"
      ]
     },
     "execution_count": 16,
     "metadata": {},
     "output_type": "execute_result"
    }
   ],
   "source": [
    "top_5_IF_codes_2015 = prov_pmnt_2015[(\n",
    "    prov_pmnt_2015.nppes_entity_code.isin([\"I\"]) &\n",
    "    prov_pmnt_2015.place_of_service.isin([\"F\"]))]\n",
    "top_5_IF_codes_2015.hcpcs_code.value_counts().head(10)"
   ]
  },
  {
   "cell_type": "code",
   "execution_count": 17,
   "metadata": {},
   "outputs": [
    {
     "data": {
      "text/plain": [
       "99232    170140\n",
       "99223    131330\n",
       "99233    114127\n",
       "99222    110249\n",
       "99213     75756\n",
       "99231     74472\n",
       "99214     72353\n",
       "99291     58799\n",
       "99238     57212\n",
       "99284     56002\n",
       "Name: hcpcs_code, dtype: int64"
      ]
     },
     "execution_count": 17,
     "metadata": {},
     "output_type": "execute_result"
    }
   ],
   "source": [
    "top_5_IF_codes_2015_y = prov_pmnt_2015[(\n",
    "    prov_pmnt_2015.nppes_entity_code.isin([\"I\"]) &\n",
    "    prov_pmnt_2015.place_of_service.isin([\"F\"]) &\n",
    "    prov_pmnt_2015.medicare_participation_indicator.isin([\"Y\"]))] \n",
    "top_5_IF_codes_2015_y.hcpcs_code.value_counts().head(10)"
   ]
  },
  {
   "cell_type": "markdown",
   "metadata": {},
   "source": [
    "### Organizations - Non Facility"
   ]
  },
  {
   "cell_type": "code",
   "execution_count": 18,
   "metadata": {},
   "outputs": [
    {
     "data": {
      "text/plain": [
       "G0008    41075\n",
       "90662    36306\n",
       "G0009    26448\n",
       "90670    24516\n",
       "90656    13679\n",
       "Q2037     8411\n",
       "90686     7945\n",
       "90688     1855\n",
       "90732     1824\n",
       "Q2038     1574\n",
       "Name: hcpcs_code, dtype: int64"
      ]
     },
     "execution_count": 18,
     "metadata": {},
     "output_type": "execute_result"
    }
   ],
   "source": [
    "top_5_OO_codes_2015 = prov_pmnt_2015[(\n",
    "    prov_pmnt_2015.nppes_entity_code.isin([\"O\"]) &\n",
    "    prov_pmnt_2015.place_of_service.isin([\"O\"]))]\n",
    "top_5_OO_codes_2015.hcpcs_code.value_counts().head(10)"
   ]
  },
  {
   "cell_type": "code",
   "execution_count": 19,
   "metadata": {},
   "outputs": [
    {
     "data": {
      "text/plain": [
       "G0008    41074\n",
       "90662    36306\n",
       "G0009    26448\n",
       "90670    24516\n",
       "90656    13679\n",
       "Q2037     8411\n",
       "90686     7945\n",
       "90688     1855\n",
       "90732     1824\n",
       "Q2038     1574\n",
       "Name: hcpcs_code, dtype: int64"
      ]
     },
     "execution_count": 19,
     "metadata": {},
     "output_type": "execute_result"
    }
   ],
   "source": [
    "top_5_OO_codes_2015_y = prov_pmnt_2015[(\n",
    "    prov_pmnt_2015.nppes_entity_code.isin([\"O\"]) &\n",
    "    prov_pmnt_2015.place_of_service.isin([\"O\"]) &\n",
    "    prov_pmnt_2015.medicare_participation_indicator.isin([\"Y\"]))] \n",
    "top_5_OO_codes_2015_y.hcpcs_code.value_counts().head(10)"
   ]
  },
  {
   "cell_type": "markdown",
   "metadata": {},
   "source": [
    "### Organizations - Facility"
   ]
  },
  {
   "cell_type": "code",
   "execution_count": 20,
   "metadata": {},
   "outputs": [
    {
     "data": {
      "text/plain": [
       "A0425    9332\n",
       "A0429    8219\n",
       "A0427    7205\n",
       "A0428    3250\n",
       "A0433    2001\n",
       "66984    1858\n",
       "A0426    1848\n",
       "43239    1828\n",
       "45380    1826\n",
       "45385    1744\n",
       "Name: hcpcs_code, dtype: int64"
      ]
     },
     "execution_count": 20,
     "metadata": {},
     "output_type": "execute_result"
    }
   ],
   "source": [
    "top_5_OF_codes_2015 = prov_pmnt_2015[(\n",
    "    prov_pmnt_2015.nppes_entity_code.isin([\"O\"]) &\n",
    "    prov_pmnt_2015.place_of_service.isin([\"F\"]))]\n",
    "top_5_OF_codes_2015.hcpcs_code.value_counts().head(10)"
   ]
  },
  {
   "cell_type": "code",
   "execution_count": 21,
   "metadata": {},
   "outputs": [
    {
     "data": {
      "text/plain": [
       "A0425    9332\n",
       "A0429    8219\n",
       "A0427    7205\n",
       "A0428    3250\n",
       "A0433    2001\n",
       "66984    1858\n",
       "A0426    1848\n",
       "43239    1828\n",
       "45380    1826\n",
       "45385    1744\n",
       "Name: hcpcs_code, dtype: int64"
      ]
     },
     "execution_count": 21,
     "metadata": {},
     "output_type": "execute_result"
    }
   ],
   "source": [
    "top_5_OF_codes_2015_y = prov_pmnt_2015[(\n",
    "    prov_pmnt_2015.nppes_entity_code.isin([\"O\"]) &\n",
    "    prov_pmnt_2015.place_of_service.isin([\"F\"]) &\n",
    "    prov_pmnt_2015.medicare_participation_indicator.isin([\"Y\"]))] \n",
    "top_5_OF_codes_2015_y.hcpcs_code.value_counts().head(10)"
   ]
  },
  {
   "cell_type": "code",
   "execution_count": null,
   "metadata": {},
   "outputs": [],
   "source": []
  },
  {
   "cell_type": "code",
   "execution_count": null,
   "metadata": {},
   "outputs": [],
   "source": []
  },
  {
   "cell_type": "code",
   "execution_count": null,
   "metadata": {},
   "outputs": [],
   "source": []
  },
  {
   "cell_type": "code",
   "execution_count": null,
   "metadata": {},
   "outputs": [],
   "source": []
  },
  {
   "cell_type": "code",
   "execution_count": null,
   "metadata": {},
   "outputs": [],
   "source": []
  },
  {
   "cell_type": "code",
   "execution_count": null,
   "metadata": {},
   "outputs": [],
   "source": []
  },
  {
   "cell_type": "code",
   "execution_count": null,
   "metadata": {},
   "outputs": [],
   "source": []
  },
  {
   "cell_type": "code",
   "execution_count": null,
   "metadata": {},
   "outputs": [],
   "source": []
  },
  {
   "cell_type": "markdown",
   "metadata": {},
   "source": [
    "filtered_dataset = []\n",
    "\n",
    "for i, chunk in enumerate(prov_pmnt_chunks):\n",
    "    print(i + 1)\n",
    "    filtered_dataset.append(chunk.loc[chunk['nppes_entity_code'] == 'I', ['place_of_service'] == 'O'])"
   ]
  },
  {
   "cell_type": "markdown",
   "metadata": {},
   "source": [
    "\n",
    "#prov_pmnt_2015 = prov_pmnt_2015.drop([0])\n",
    "#prov_pmnt_2015 = prov_pmnt_2015.reset_index(drop = True)\n",
    "#prov_pmnt_2015['nppes_entity_code'] = prov_pmnt_2015['nppes_entity_code'].astype('category')\n",
    "#prov_pmnt_2015['place_of_service'] = prov_pmnt_2015['place_of_service'].astype('category')\n"
   ]
  }
 ],
 "metadata": {
  "kernelspec": {
   "display_name": "Python 3",
   "language": "python",
   "name": "python3"
  },
  "language_info": {
   "codemirror_mode": {
    "name": "ipython",
    "version": 3
   },
   "file_extension": ".py",
   "mimetype": "text/x-python",
   "name": "python",
   "nbconvert_exporter": "python",
   "pygments_lexer": "ipython3",
   "version": "3.7.3"
  }
 },
 "nbformat": 4,
 "nbformat_minor": 2
}
