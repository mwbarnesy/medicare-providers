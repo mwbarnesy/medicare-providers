{
 "cells": [
  {
   "cell_type": "markdown",
   "metadata": {},
   "source": [
    "# Physician & Other Supplier Payments 2015 - bene_day_srvc_cnt mean, max"
   ]
  },
  {
   "cell_type": "markdown",
   "metadata": {},
   "source": [
    "### Import libraries"
   ]
  },
  {
   "cell_type": "code",
   "execution_count": 155,
   "metadata": {},
   "outputs": [],
   "source": [
    "import pandas as pd \n",
    "import numpy as np  \n",
    "import matplotlib.pyplot as plt  \n",
    "import seaborn as sns"
   ]
  },
  {
   "cell_type": "markdown",
   "metadata": {},
   "source": [
    "### Read in csv for 2015, 2016, & 2017"
   ]
  },
  {
   "cell_type": "code",
   "execution_count": 162,
   "metadata": {},
   "outputs": [],
   "source": [
    "prov_pmnt_2015 = pd.read_csv('../data/Medicare_Provider_Util_Payment_PUF_CY2015.txt', sep='\\t',\n",
    "    usecols = ['nppes_entity_code', 'medicare_participation_indicator', 'place_of_service', 'hcpcs_code',\n",
    "    'bene_day_srvc_cnt'],\n",
    "    dtype = {'nppes_entity_code' : 'category', 'place_of_service' : 'category'}\n",
    "    )\n",
    "prov_pmnt_2015 = prov_pmnt_2015.drop([0])\n",
    "prov_pmnt_2015 = prov_pmnt_2015.reset_index(drop = True)"
   ]
  },
  {
   "cell_type": "code",
   "execution_count": 164,
   "metadata": {},
   "outputs": [],
   "source": [
    "prov_pmnt_2017 = pd.read_csv('../data/Medicare_Provider_Util_Payment_PUF_CY2017.txt', sep='\\t',\n",
    "    usecols = ['nppes_entity_code', 'medicare_participation_indicator', 'place_of_service', 'hcpcs_code',\n",
    "    'bene_day_srvc_cnt'],\n",
    "    dtype = {'nppes_entity_code' : 'category', 'place_of_service' : 'category'}\n",
    "    )\n",
    "prov_pmnt_2017 = prov_pmnt_2017.drop([0])\n",
    "prov_pmnt_2017 = prov_pmnt_2017.reset_index(drop = True)"
   ]
  },
  {
   "cell_type": "markdown",
   "metadata": {},
   "source": [
    "### Functions"
   ]
  },
  {
   "cell_type": "code",
   "execution_count": 140,
   "metadata": {},
   "outputs": [],
   "source": [
    "def getlist(dict):\n",
    "    \"\"\"Converts the keys from a dictionary into a list.\"\"\"\n",
    "    list = []\n",
    "    for key in dict.keys():\n",
    "        list.append(key)\n",
    "    return list "
   ]
  },
  {
   "cell_type": "markdown",
   "metadata": {},
   "source": [
    "# Extract top 10 HCPCS codes for each entity type/place of service combination - I:O, I:F, O:O, O:F\n",
    "\n",
    "# Then find the bene_day_srvc_cnt mean and max for each HCPCS code for each combination"
   ]
  },
  {
   "cell_type": "markdown",
   "metadata": {},
   "source": [
    "## Individual - Non Facility or I:O"
   ]
  },
  {
   "cell_type": "markdown",
   "metadata": {},
   "source": [
    "#### Filter data based on entity code, place of service, and medicare indicator, then pass top ten HCPCS codes into a list"
   ]
  },
  {
   "cell_type": "code",
   "execution_count": 146,
   "metadata": {},
   "outputs": [],
   "source": [
    "top_10_io_codes_2015 = prov_pmnt_2015[(\n",
    "    prov_pmnt_2015.nppes_entity_code.isin([\"I\"]) &\n",
    "    prov_pmnt_2015.place_of_service.isin([\"O\"]) &\n",
    "    prov_pmnt_2015.medicare_participation_indicator.isin([\"Y\"]))] \n",
    "top_10_io_codes_2015_dict = dict(top_10_io_codes_2015.hcpcs_code.value_counts().head(10))\n",
    "\n",
    "top_10_io_codes_2017 = prov_pmnt_2017[(\n",
    "    prov_pmnt_2017.nppes_entity_code.isin([\"I\"]) &\n",
    "    prov_pmnt_2017.place_of_service.isin([\"O\"]) &\n",
    "    prov_pmnt_2017.medicare_participation_indicator.isin([\"Y\"]))] \n",
    "top_10_io_codes_2017_dict = dict(top_10_io_codes_2017.hcpcs_code.value_counts().head(10))"
   ]
  },
  {
   "cell_type": "markdown",
   "metadata": {},
   "source": [
    "#### Use getlist() function (defined above) to turn dictionary to a list"
   ]
  },
  {
   "cell_type": "code",
   "execution_count": 151,
   "metadata": {
    "scrolled": true
   },
   "outputs": [],
   "source": [
    "top_10_io_codes_2015_list = getlist(top_10_io_codes_2015_dict)\n",
    "\n",
    "top_10_io_codes_2017_list = getlist(top_10_io_codes_2017_dict)"
   ]
  },
  {
   "cell_type": "markdown",
   "metadata": {},
   "source": [
    "#### Create df filtered on entity code = I, place of service = O, and HCPCS code"
   ]
  },
  {
   "cell_type": "code",
   "execution_count": 116,
   "metadata": {},
   "outputs": [],
   "source": [
    "top_10_io_2015 = prov_pmnt_2015[(\n",
    "    prov_pmnt_2015.nppes_entity_code.isin([\"I\"]) &\n",
    "    prov_pmnt_2015.place_of_service.isin([\"O\"]) &\n",
    "    prov_pmnt_2015.hcpcs_code.isin(['99213',\n",
    " '99214',\n",
    " '99203',\n",
    " '99204',\n",
    " '99212',\n",
    " 'G0008',\n",
    " '36415',\n",
    " '99215',\n",
    " '93000',\n",
    " '96372'])\n",
    "    )] "
   ]
  },
  {
   "cell_type": "markdown",
   "metadata": {},
   "source": [
    "#### Pivot data frame to reflect the mean of bene_day_srvc_cnt for each HCPCS code"
   ]
  },
  {
   "cell_type": "code",
   "execution_count": 117,
   "metadata": {
    "scrolled": true
   },
   "outputs": [
    {
     "data": {
      "text/plain": [
       "hcpcs_code\n",
       "36415    282.624990\n",
       "99214    261.038394\n",
       "99213    243.657230\n",
       "93000    131.538328\n",
       "96372    112.228931\n",
       "99212     99.582081\n",
       "99215     83.043327\n",
       "G0008     69.168324\n",
       "99203     61.824450\n",
       "99204     54.142617\n",
       "Name: bene_day_srvc_cnt, dtype: float64"
      ]
     },
     "execution_count": 117,
     "metadata": {},
     "output_type": "execute_result"
    }
   ],
   "source": [
    "io_2015_pivot_mean = top_10_io_2015.pivot_table(index = 'hcpcs_code', values = 'bene_day_srvc_cnt', aggfunc = np.mean)\n",
    "io_2015_pivot_mean.bene_day_srvc_cnt.sort_values(ascending = False)"
   ]
  },
  {
   "cell_type": "markdown",
   "metadata": {},
   "source": [
    "#### Repeat the same steps for max of bene_day_srvc_cnt"
   ]
  },
  {
   "cell_type": "code",
   "execution_count": 118,
   "metadata": {},
   "outputs": [
    {
     "data": {
      "text/plain": [
       "hcpcs_code\n",
       "36415    117129.0\n",
       "99213     12572.0\n",
       "99214     12326.0\n",
       "G0008     11567.0\n",
       "99212     10804.0\n",
       "96372      9178.0\n",
       "99203      7262.0\n",
       "93000      6908.0\n",
       "99215      4765.0\n",
       "99204      3436.0\n",
       "Name: bene_day_srvc_cnt, dtype: float64"
      ]
     },
     "execution_count": 118,
     "metadata": {},
     "output_type": "execute_result"
    }
   ],
   "source": [
    "io_2015_pivot_max = top_10_io_2015.pivot_table(index = 'hcpcs_code', values = 'bene_day_srvc_cnt', aggfunc = np.max)\n",
    "io_2015_pivot_max.bene_day_srvc_cnt.sort_values(ascending = False)"
   ]
  },
  {
   "cell_type": "code",
   "execution_count": 81,
   "metadata": {},
   "outputs": [],
   "source": [
    "#messing around with pd.melt()\n",
    "#io_melt = pd.melt(frame = top_10_IO, id_vars = ['hcpcs_code', 'bene_day_srvc_cnt'])"
   ]
  },
  {
   "cell_type": "markdown",
   "metadata": {},
   "source": [
    "## Individual - Facility or I:F"
   ]
  },
  {
   "cell_type": "markdown",
   "metadata": {},
   "source": [
    "#### Filter data based on entity code, place of service, and medicare indicator, then pass top ten HCPCS codes into a dictionary"
   ]
  },
  {
   "cell_type": "code",
   "execution_count": 119,
   "metadata": {},
   "outputs": [],
   "source": [
    "top_10_if_codes_2015 = prov_pmnt_2015[(\n",
    "    prov_pmnt_2015.nppes_entity_code.isin([\"I\"]) &\n",
    "    prov_pmnt_2015.place_of_service.isin([\"F\"]) &\n",
    "    prov_pmnt_2015.medicare_participation_indicator.isin([\"Y\"]))] \n",
    "top_10_if_codes_dict = dict(top_10_if_codes_2015.hcpcs_code.value_counts().head(10))"
   ]
  },
  {
   "cell_type": "markdown",
   "metadata": {},
   "source": [
    "#### Use getlist() function (defined above) to turn dictionary to a list"
   ]
  },
  {
   "cell_type": "code",
   "execution_count": 131,
   "metadata": {
    "scrolled": false
   },
   "outputs": [
    {
     "data": {
      "text/plain": [
       "['99232',\n",
       " '99223',\n",
       " '99233',\n",
       " '99222',\n",
       " '99213',\n",
       " '99231',\n",
       " '99214',\n",
       " '99291',\n",
       " '99238',\n",
       " '99284']"
      ]
     },
     "execution_count": 131,
     "metadata": {},
     "output_type": "execute_result"
    }
   ],
   "source": [
    "top_10_if_codes_list = getlist(top_10_if_codes_dict)\n",
    "top_10_if_codes_list"
   ]
  },
  {
   "cell_type": "markdown",
   "metadata": {},
   "source": [
    "#### Create df filtered on entity code = I, place of service = F, and HCPCS code"
   ]
  },
  {
   "cell_type": "code",
   "execution_count": 132,
   "metadata": {},
   "outputs": [],
   "source": [
    "top_10_if = prov_pmnt_2015[(\n",
    "    prov_pmnt_2015.nppes_entity_code.isin([\"I\"]) &\n",
    "    prov_pmnt_2015.place_of_service.isin([\"F\"]) &\n",
    "    prov_pmnt_2015.hcpcs_code.isin(['99232',\n",
    " '99223',\n",
    " '99233',\n",
    " '99222',\n",
    " '99213',\n",
    " '99231',\n",
    " '99214',\n",
    " '99291',\n",
    " '99238',\n",
    " '99284'])\n",
    "    )] "
   ]
  },
  {
   "cell_type": "markdown",
   "metadata": {},
   "source": [
    "#### Pivot data frame to reflect the mean of bene_day_srvc_cnt for each HCPCS code"
   ]
  },
  {
   "cell_type": "code",
   "execution_count": 133,
   "metadata": {
    "scrolled": false
   },
   "outputs": [
    {
     "data": {
      "text/plain": [
       "hcpcs_code\n",
       "99232    273.051716\n",
       "99233    185.270433\n",
       "99214    145.713713\n",
       "99213    129.797603\n",
       "99231    107.599192\n",
       "99284    103.187672\n",
       "99291     85.350227\n",
       "99223     79.706693\n",
       "99222     58.970767\n",
       "99238     55.652469\n",
       "Name: bene_day_srvc_cnt, dtype: float64"
      ]
     },
     "execution_count": 133,
     "metadata": {},
     "output_type": "execute_result"
    }
   ],
   "source": [
    "if_pivot_mean = top_10_if.pivot_table(index = 'hcpcs_code', values = 'bene_day_srvc_cnt', aggfunc = np.mean)\n",
    "if_pivot_mean.bene_day_srvc_cnt.sort_values(ascending = False)"
   ]
  },
  {
   "cell_type": "markdown",
   "metadata": {},
   "source": [
    "#### Repeat the same steps for max of bene_day_srvc_cnt"
   ]
  },
  {
   "cell_type": "code",
   "execution_count": 123,
   "metadata": {},
   "outputs": [
    {
     "data": {
      "text/plain": [
       "hcpcs_code\n",
       "99233    13013.0\n",
       "99231    11884.0\n",
       "99232    11475.0\n",
       "99213     5123.0\n",
       "99214     3935.0\n",
       "99291     2858.0\n",
       "99223     2105.0\n",
       "99284     1710.0\n",
       "99222     1707.0\n",
       "99238     1632.0\n",
       "Name: bene_day_srvc_cnt, dtype: float64"
      ]
     },
     "execution_count": 123,
     "metadata": {},
     "output_type": "execute_result"
    }
   ],
   "source": [
    "if_pivot_max = top_10_if.pivot_table(index = 'hcpcs_code', values = 'bene_day_srvc_cnt', aggfunc = np.max)\n",
    "if_pivot_max.bene_day_srvc_cnt.sort_values(ascending = False)"
   ]
  },
  {
   "cell_type": "markdown",
   "metadata": {},
   "source": [
    "## Organizations - Non Facility or O:O"
   ]
  },
  {
   "cell_type": "markdown",
   "metadata": {},
   "source": [
    "#### Filter data based on entity code, place of service, and medicare indicator, then pass top ten HCPCS codes into a dictionary"
   ]
  },
  {
   "cell_type": "code",
   "execution_count": 124,
   "metadata": {},
   "outputs": [],
   "source": [
    "top_10_oo_codes_2015 = prov_pmnt_2015[(\n",
    "    prov_pmnt_2015.nppes_entity_code.isin([\"O\"]) &\n",
    "    prov_pmnt_2015.place_of_service.isin([\"O\"]) &\n",
    "    prov_pmnt_2015.medicare_participation_indicator.isin([\"Y\"]))] \n",
    "top_10_oo_codes_dict = dict(top_10_oo_codes_2015.hcpcs_code.value_counts().head(10))"
   ]
  },
  {
   "cell_type": "markdown",
   "metadata": {},
   "source": [
    "#### Use getlist() function (defined above) to turn dictionary to a list"
   ]
  },
  {
   "cell_type": "code",
   "execution_count": 125,
   "metadata": {
    "scrolled": true
   },
   "outputs": [
    {
     "data": {
      "text/plain": [
       "['G0008',\n",
       " '90662',\n",
       " 'G0009',\n",
       " '90670',\n",
       " '90656',\n",
       " 'Q2037',\n",
       " '90686',\n",
       " '90688',\n",
       " '90732',\n",
       " 'Q2038']"
      ]
     },
     "execution_count": 125,
     "metadata": {},
     "output_type": "execute_result"
    }
   ],
   "source": [
    "top_10_oo_codes_list = getlist(top_10_oo_codes_dict)\n",
    "top_10_oo_codes_list"
   ]
  },
  {
   "cell_type": "markdown",
   "metadata": {},
   "source": [
    "#### Create df filtered on entity code = O, place of service = O, and HCPCS code"
   ]
  },
  {
   "cell_type": "code",
   "execution_count": 127,
   "metadata": {},
   "outputs": [],
   "source": [
    "top_10_oo = prov_pmnt_2015[(\n",
    "    prov_pmnt_2015.nppes_entity_code.isin([\"O\"]) &\n",
    "    prov_pmnt_2015.place_of_service.isin([\"O\"]) &\n",
    "    prov_pmnt_2015.hcpcs_code.isin(['G0008',\n",
    " '90662',\n",
    " 'G0009',\n",
    " '90670',\n",
    " '90656',\n",
    " 'Q2037',\n",
    " '90686',\n",
    " '90688',\n",
    " '90732',\n",
    " 'Q2038'])\n",
    "    )] "
   ]
  },
  {
   "cell_type": "markdown",
   "metadata": {},
   "source": [
    "#### Pivot data frame to reflect the mean of bene_day_srvc_cnt for each HCPCS code"
   ]
  },
  {
   "cell_type": "code",
   "execution_count": 129,
   "metadata": {},
   "outputs": [
    {
     "data": {
      "text/plain": [
       "hcpcs_code\n",
       "G0008    149.097115\n",
       "90662    116.362172\n",
       "90688     82.927224\n",
       "Q2037     76.606824\n",
       "Q2038     55.672808\n",
       "G0009     49.731813\n",
       "90670     49.170990\n",
       "90686     34.403776\n",
       "90656     31.777177\n",
       "90732     22.951206\n",
       "Name: bene_day_srvc_cnt, dtype: float64"
      ]
     },
     "execution_count": 129,
     "metadata": {},
     "output_type": "execute_result"
    }
   ],
   "source": [
    "oo_pivot_mean = top_10_oo.pivot_table(index = 'hcpcs_code', values = 'bene_day_srvc_cnt', aggfunc = np.mean)\n",
    "oo_pivot_mean.bene_day_srvc_cnt.sort_values(ascending = False)"
   ]
  },
  {
   "cell_type": "markdown",
   "metadata": {},
   "source": [
    "#### Repeat the same steps for max of bene_day_srvc_cnt"
   ]
  },
  {
   "cell_type": "code",
   "execution_count": 130,
   "metadata": {},
   "outputs": [
    {
     "data": {
      "text/plain": [
       "hcpcs_code\n",
       "G0008    88812.0\n",
       "90662    61072.0\n",
       "G0009    24309.0\n",
       "90670    22351.0\n",
       "Q2037    21904.0\n",
       "90686     9566.0\n",
       "90688     7103.0\n",
       "90732     3533.0\n",
       "90656     3159.0\n",
       "Q2038     1428.0\n",
       "Name: bene_day_srvc_cnt, dtype: float64"
      ]
     },
     "execution_count": 130,
     "metadata": {},
     "output_type": "execute_result"
    }
   ],
   "source": [
    "oo_pivot_max = top_10_oo.pivot_table(index = 'hcpcs_code', values = 'bene_day_srvc_cnt', aggfunc = np.max)\n",
    "oo_pivot_max.bene_day_srvc_cnt.sort_values(ascending = False)"
   ]
  },
  {
   "cell_type": "markdown",
   "metadata": {},
   "source": [
    "## Organizations - Facility or O:F"
   ]
  },
  {
   "cell_type": "markdown",
   "metadata": {},
   "source": [
    "#### Filter data based on entity code, place of service, and medicare indicator, then pass top ten HCPCS codes into a dictionary"
   ]
  },
  {
   "cell_type": "code",
   "execution_count": 134,
   "metadata": {},
   "outputs": [],
   "source": [
    "top_10_of_codes_2015 = prov_pmnt_2015[(\n",
    "    prov_pmnt_2015.nppes_entity_code.isin([\"O\"]) &\n",
    "    prov_pmnt_2015.place_of_service.isin([\"F\"]) &\n",
    "    prov_pmnt_2015.medicare_participation_indicator.isin([\"Y\"]))] \n",
    "top_10_of_codes_dict = dict(top_10_of_codes_2015.hcpcs_code.value_counts().head(10))"
   ]
  },
  {
   "cell_type": "markdown",
   "metadata": {},
   "source": [
    "#### Use getlist() function (defined above) to turn dictionary to a list"
   ]
  },
  {
   "cell_type": "code",
   "execution_count": 135,
   "metadata": {},
   "outputs": [
    {
     "data": {
      "text/plain": [
       "['A0425',\n",
       " 'A0429',\n",
       " 'A0427',\n",
       " 'A0428',\n",
       " 'A0433',\n",
       " '66984',\n",
       " 'A0426',\n",
       " '43239',\n",
       " '45380',\n",
       " '45385']"
      ]
     },
     "execution_count": 135,
     "metadata": {},
     "output_type": "execute_result"
    }
   ],
   "source": [
    "top_10_of_codes_list = getlist(top_10_of_codes_dict)\n",
    "top_10_of_codes_list"
   ]
  },
  {
   "cell_type": "markdown",
   "metadata": {},
   "source": [
    "#### Create df filtered on entity code = O, place of service = F, and HCPCS code"
   ]
  },
  {
   "cell_type": "code",
   "execution_count": 137,
   "metadata": {},
   "outputs": [],
   "source": [
    "top_10_of = prov_pmnt_2015[(\n",
    "    prov_pmnt_2015.nppes_entity_code.isin([\"O\"]) &\n",
    "    prov_pmnt_2015.place_of_service.isin([\"F\"]) &\n",
    "    prov_pmnt_2015.hcpcs_code.isin(['A0425',\n",
    " 'A0429',\n",
    " 'A0427',\n",
    " 'A0428',\n",
    " 'A0433',\n",
    " '66984',\n",
    " 'A0426',\n",
    " '43239',\n",
    " '45380',\n",
    " '45385'])\n",
    "    )] "
   ]
  },
  {
   "cell_type": "markdown",
   "metadata": {},
   "source": [
    "#### Pivot data frame to reflect the mean of bene_day_srvc_cnt for each HCPCS code"
   ]
  },
  {
   "cell_type": "code",
   "execution_count": 138,
   "metadata": {},
   "outputs": [
    {
     "data": {
      "text/plain": [
       "hcpcs_code\n",
       "A0425    1327.194171\n",
       "A0428    1324.258462\n",
       "A0427     687.103817\n",
       "66984     635.836921\n",
       "A0429     352.753011\n",
       "43239     286.003829\n",
       "45380     237.089266\n",
       "45385     201.699541\n",
       "A0426     183.146104\n",
       "A0433      48.286857\n",
       "Name: bene_day_srvc_cnt, dtype: float64"
      ]
     },
     "execution_count": 138,
     "metadata": {},
     "output_type": "execute_result"
    }
   ],
   "source": [
    "of_pivot_mean = top_10_of.pivot_table(index = 'hcpcs_code', values = 'bene_day_srvc_cnt', aggfunc = np.mean)\n",
    "of_pivot_mean.bene_day_srvc_cnt.sort_values(ascending = False)"
   ]
  },
  {
   "cell_type": "markdown",
   "metadata": {},
   "source": [
    "#### Repeat the same steps for max of bene_day_srvc_cnt"
   ]
  },
  {
   "cell_type": "code",
   "execution_count": 139,
   "metadata": {},
   "outputs": [
    {
     "data": {
      "text/plain": [
       "hcpcs_code\n",
       "A0425    97329.0\n",
       "A0427    56730.0\n",
       "A0428    51431.0\n",
       "A0429    45764.0\n",
       "66984     5796.0\n",
       "A0426     3773.0\n",
       "45380     3043.0\n",
       "43239     2636.0\n",
       "45385     1915.0\n",
       "A0433     1316.0\n",
       "Name: bene_day_srvc_cnt, dtype: float64"
      ]
     },
     "execution_count": 139,
     "metadata": {},
     "output_type": "execute_result"
    }
   ],
   "source": [
    "of_pivot_max = top_10_of.pivot_table(index = 'hcpcs_code', values = 'bene_day_srvc_cnt', aggfunc = np.max)\n",
    "of_pivot_max.bene_day_srvc_cnt.sort_values(ascending = False)"
   ]
  },
  {
   "cell_type": "code",
   "execution_count": null,
   "metadata": {},
   "outputs": [],
   "source": []
  },
  {
   "cell_type": "code",
   "execution_count": null,
   "metadata": {},
   "outputs": [],
   "source": []
  },
  {
   "cell_type": "markdown",
   "metadata": {},
   "source": [
    "filtered_dataset = []\n",
    "\n",
    "for i, chunk in enumerate(prov_pmnt_chunks):\n",
    "    print(i + 1)\n",
    "    filtered_dataset.append(chunk.loc[chunk['nppes_entity_code'] == 'I', ['place_of_service'] == 'O'])"
   ]
  },
  {
   "cell_type": "markdown",
   "metadata": {},
   "source": [
    "\n",
    "#prov_pmnt_2015 = prov_pmnt_2015.drop([0])\n",
    "#prov_pmnt_2015 = prov_pmnt_2015.reset_index(drop = True)\n",
    "#prov_pmnt_2015['nppes_entity_code'] = prov_pmnt_2015['nppes_entity_code'].astype('category')\n",
    "#prov_pmnt_2015['place_of_service'] = prov_pmnt_2015['place_of_service'].astype('category')\n"
   ]
  }
 ],
 "metadata": {
  "kernelspec": {
   "display_name": "Python 3",
   "language": "python",
   "name": "python3"
  },
  "language_info": {
   "codemirror_mode": {
    "name": "ipython",
    "version": 3
   },
   "file_extension": ".py",
   "mimetype": "text/x-python",
   "name": "python",
   "nbconvert_exporter": "python",
   "pygments_lexer": "ipython3",
   "version": "3.7.3"
  }
 },
 "nbformat": 4,
 "nbformat_minor": 2
}
