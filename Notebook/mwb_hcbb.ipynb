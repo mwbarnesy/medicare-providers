{
 "cells": [
  {
   "cell_type": "markdown",
   "metadata": {},
   "source": [
    "### Hospital Outpatient all years -- Health Care Blue Book"
   ]
  },
  {
   "cell_type": "code",
   "execution_count": 1,
   "metadata": {},
   "outputs": [],
   "source": [
    "import pandas as pd \n",
    "import numpy as np  \n",
    "import matplotlib.pyplot as plt  \n",
    "import seaborn as sns"
   ]
  },
  {
   "cell_type": "code",
   "execution_count": 2,
   "metadata": {},
   "outputs": [],
   "source": [
    "%matplotlib inline"
   ]
  },
  {
   "cell_type": "code",
   "execution_count": null,
   "metadata": {},
   "outputs": [],
   "source": [
    "hosp_out_2017 = pd.read_excel('../data/MUP_OHP_R19_P04_V10_D17_APC_Provider.xlsx', skiprows = [0, 1, 2, 3, 4])\n",
    "hosp_out_2016 = pd.read_excel('../data/MUP_OHP_R19_P04_V10_D16_APC_Provider.xlsx', skiprows = [0, 1, 2, 3, 4])\n",
    "hosp_out_2015 = pd.read_excel('../data/MUP_OHP_R19_P04_V10_D15_APC_Provider.xlsx', skiprows = [0, 1, 2, 3, 4])"
   ]
  },
  {
   "cell_type": "markdown",
   "metadata": {},
   "source": [
    "### renaming columns not necessary\n",
    "\n",
    "outpatient_2017 = outpatient_2017.rename(columns = {\n",
    "    'Unnamed: 0' : 'Provider ID', \n",
    "    'Unnamed: 1' : 'Provider Name', \n",
    "    'Unnamed: 2' : 'Provider Street Address', \n",
    "    'Unnamed: 3' : 'Provider City', \n",
    "    'Unnamed: 4' : 'Provider State',\n",
    "    'Unnamed: 5' : 'Provider Zip Code', \n",
    "    'Unnamed: 6' : 'Provider Hospital Referral Region (HRR)', \n",
    "    'Unnamed: 7' : 'APC', \n",
    "    'Unnamed: 8' : 'APC Description', \n",
    "    'Unnamed: 9' : 'Beneficiaries',\n",
    "    'Unnamed: 10' : 'Comprehensive APC Services', \n",
    "    'Unnamed: 11' : 'Average Estimated Total Submitted Charges', \n",
    "    'Unnamed: 12' : 'Average Medicare Allowed Amount', \n",
    "    'Unnamed: 13' : 'Average Medicare Payment Amount',\n",
    "    'Unnamed: 14' : 'Outlier Comprehensive APC Services', \n",
    "    'Unnamed: 15' : 'Average Medicare Outlier Amount'})"
   ]
  },
  {
   "cell_type": "code",
   "execution_count": null,
   "metadata": {},
   "outputs": [],
   "source": []
  },
  {
   "cell_type": "code",
   "execution_count": null,
   "metadata": {},
   "outputs": [],
   "source": []
  },
  {
   "cell_type": "code",
   "execution_count": null,
   "metadata": {},
   "outputs": [],
   "source": [
    "#pd.DataFrame(np.arange(12).reshape(3,4), columns=['P', 'Q', 'R', 'S'])"
   ]
  }
 ],
 "metadata": {
  "kernelspec": {
   "display_name": "Python 3",
   "language": "python",
   "name": "python3"
  },
  "language_info": {
   "codemirror_mode": {
    "name": "ipython",
    "version": 3
   },
   "file_extension": ".py",
   "mimetype": "text/x-python",
   "name": "python",
   "nbconvert_exporter": "python",
   "pygments_lexer": "ipython3",
   "version": "3.7.3"
  }
 },
 "nbformat": 4,
 "nbformat_minor": 2
}
